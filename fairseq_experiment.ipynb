{
 "cells": [
  {
   "cell_type": "code",
   "execution_count": 5,
   "source": [
    "import torch\r\n",
    "import pdb"
   ],
   "outputs": [],
   "metadata": {}
  },
  {
   "cell_type": "code",
   "execution_count": 30,
   "source": [
    "value = torch.randn((56,120,512))\r\n",
    "attn = torch.rand(56,143,120)"
   ],
   "outputs": [],
   "metadata": {}
  },
  {
   "cell_type": "code",
   "execution_count": 35,
   "source": [
    "def compute_regularization_entropy(attn, value):\r\n",
    "    value_norm = value.norm(p=2, dim=2)\r\n",
    "    a_fx_norm2 = value_norm.unsqueeze(1) * attn\r\n",
    "    #pdb.set_trace()\r\n",
    "    # 标准化到0-1\r\n",
    "    a_fx_norm2_sum = a_fx_norm2.sum(keepdim=True, dim=2)\r\n",
    "    a_fx_norm2 = a_fx_norm2 / a_fx_norm2_sum\r\n",
    "    # 计算熵\r\n",
    "    ent_a_fx = ((-1) * a_fx_norm2 * torch.log(a_fx_norm2+1e-6)).sum().type_as(attn)\r\n",
    "    return ent_a_fx\r\n",
    "    \r\n",
    "\r\n",
    "compute_regularization_entropy(attn,value)"
   ],
   "outputs": [
    {
     "output_type": "execute_result",
     "data": {
      "text/plain": [
       "tensor(36793.1133)"
      ]
     },
     "metadata": {},
     "execution_count": 35
    }
   ],
   "metadata": {}
  },
  {
   "cell_type": "code",
   "execution_count": 20,
   "source": [
    "x = torch.Tensor([1,2,3,4,5])\r\n",
    "y = torch.Tensor([1,2,3,4,5])\r\n",
    "\r\n",
    "not (0 == (x!=y).sum())"
   ],
   "outputs": [
    {
     "output_type": "execute_result",
     "data": {
      "text/plain": [
       "False"
      ]
     },
     "metadata": {},
     "execution_count": 20
    }
   ],
   "metadata": {}
  },
  {
   "cell_type": "code",
   "execution_count": 19,
   "source": [
    "a = torch.zeros(3,2,3)\r\n",
    "a[:, 0:-1, :].shape"
   ],
   "outputs": [
    {
     "output_type": "execute_result",
     "data": {
      "text/plain": [
       "torch.Size([3, 1, 3])"
      ]
     },
     "metadata": {},
     "execution_count": 19
    }
   ],
   "metadata": {}
  },
  {
   "cell_type": "code",
   "execution_count": 9,
   "source": [
    "value = torch.randn((56,120,512))\r\n",
    "attn = torch.randn((56,143,120))\r\n",
    "value_norm = value.norm(p=2, dim=2)\r\n",
    "res = torch.zeros(value.shape[0], attn.shape[1])"
   ],
   "outputs": [],
   "metadata": {}
  },
  {
   "cell_type": "code",
   "execution_count": 16,
   "source": [
    "for batch in range(value.shape[0]):\r\n",
    "    for tgt in range(attn.shape[1]):\r\n",
    "        max_norm = 0\r\n",
    "        for w in range(attn.shape[2]):\r\n",
    "            max_norm = max(attn[batch][tgt][w]*value_norm[batch][w], max_norm)\r\n",
    "            #print(attn[batch][tgt][w]*value_norm[batch][w])\r\n",
    "        res[batch][tgt] = max_norm"
   ],
   "outputs": [],
   "metadata": {}
  },
  {
   "cell_type": "code",
   "execution_count": 17,
   "source": [
    "(res.sum()/(res.shape[0]*res.shape[1])) * 0.005"
   ],
   "outputs": [
    {
     "output_type": "execute_result",
     "data": {
      "text/plain": [
       "tensor(0.2910)"
      ]
     },
     "metadata": {},
     "execution_count": 17
    }
   ],
   "metadata": {}
  },
  {
   "cell_type": "code",
   "execution_count": 24,
   "source": [
    "res2 = value_norm.unsqueeze(1) * attn\r\n",
    "res2.max(dim=2)[0].sum()"
   ],
   "outputs": [],
   "metadata": {}
  },
  {
   "cell_type": "code",
   "execution_count": 20,
   "source": [
    "def compute_attn_df(attn_weights):\r\n",
    "    cat_vec = torch.zeros(attn_weights.shape[0], 1, attn_weights.shape[2])\r\n",
    "    subtractor = attn_weights[:, :-1, :]\r\n",
    "    subtractor = torch.cat((cat_vec, subtractor), dim=1)\r\n",
    "    return attn_weights - subtractor"
   ],
   "outputs": [],
   "metadata": {}
  },
  {
   "cell_type": "code",
   "execution_count": 25,
   "source": [
    "attn_weights = torch.Tensor([\r\n",
    "    [\r\n",
    "        [1,6,1],\r\n",
    "        [2,2,2],\r\n",
    "        [3,6,3]\r\n",
    "    ],\r\n",
    "    [\r\n",
    "        [4,4,4],\r\n",
    "        [5,5,5],\r\n",
    "        [6,6,6]\r\n",
    "    ]\r\n",
    "])\r\n",
    "compute_attn_df(attn_weights)"
   ],
   "outputs": [
    {
     "output_type": "execute_result",
     "data": {
      "text/plain": [
       "tensor([[[ 1.,  6.,  1.],\n",
       "         [ 1., -4.,  1.],\n",
       "         [ 1.,  4.,  1.]],\n",
       "\n",
       "        [[ 4.,  4.,  4.],\n",
       "         [ 1.,  1.,  1.],\n",
       "         [ 1.,  1.,  1.]]])"
      ]
     },
     "metadata": {},
     "execution_count": 25
    }
   ],
   "metadata": {}
  },
  {
   "cell_type": "code",
   "execution_count": 26,
   "source": [
    "def compute_prev(q):\r\n",
    "    cat = torch.zeros(q.shape[0], 1, q.shape[2]).to(q.device).half()\r\n",
    "    prev = q[:, :-1, :]\r\n",
    "#pdb.set_trace()\r\n",
    "    prev = torch.cat((cat, prev), dim=1)\r\n",
    "    return prev"
   ],
   "outputs": [],
   "metadata": {}
  },
  {
   "cell_type": "code",
   "execution_count": 3,
   "source": [
    "import torch\r\n",
    "\r\n",
    "a = torch.tensor(1)\r\n",
    "float(a)"
   ],
   "outputs": [
    {
     "output_type": "execute_result",
     "data": {
      "text/plain": [
       "1.0"
      ]
     },
     "metadata": {},
     "execution_count": 3
    }
   ],
   "metadata": {}
  },
  {
   "cell_type": "code",
   "execution_count": 24,
   "source": [
    "value = torch.ones(2,3,4)\r\n",
    "attn = torch.arange(36).reshape(2,6,3)\r\n",
    "\r\n",
    "print(value)\r\n",
    "print(attn.shape)"
   ],
   "outputs": [
    {
     "output_type": "stream",
     "name": "stdout",
     "text": [
      "tensor([[[1., 1., 1., 1.],\n",
      "         [1., 1., 1., 1.],\n",
      "         [1., 1., 1., 1.]],\n",
      "\n",
      "        [[1., 1., 1., 1.],\n",
      "         [1., 1., 1., 1.],\n",
      "         [1., 1., 1., 1.]]])\n",
      "torch.Size([2, 6, 3])\n"
     ]
    }
   ],
   "metadata": {}
  },
  {
   "cell_type": "code",
   "execution_count": 25,
   "source": [
    "attn"
   ],
   "outputs": [
    {
     "output_type": "execute_result",
     "data": {
      "text/plain": [
       "tensor([[[ 0,  1,  2],\n",
       "         [ 3,  4,  5],\n",
       "         [ 6,  7,  8],\n",
       "         [ 9, 10, 11],\n",
       "         [12, 13, 14],\n",
       "         [15, 16, 17]],\n",
       "\n",
       "        [[18, 19, 20],\n",
       "         [21, 22, 23],\n",
       "         [24, 25, 26],\n",
       "         [27, 28, 29],\n",
       "         [30, 31, 32],\n",
       "         [33, 34, 35]]])"
      ]
     },
     "metadata": {},
     "execution_count": 25
    }
   ],
   "metadata": {}
  },
  {
   "cell_type": "code",
   "execution_count": 17,
   "source": [
    "def compute_regularization(attn, value):\r\n",
    "    value_norm = value.norm(p=2, dim=2)\r\n",
    "    reg = value_norm.unsqueeze(1) * attn\r\n",
    "    reg = reg.max(dim=2)[0]\r\n",
    "    denominator = value_norm.max(dim=1)[0].unsqueeze(1)\r\n",
    "    return (reg/denominator).sum()\r\n",
    "# compute_regularization(attn,value)"
   ],
   "outputs": [],
   "metadata": {}
  },
  {
   "cell_type": "code",
   "execution_count": 6,
   "source": [
    "import math"
   ],
   "outputs": [],
   "metadata": {}
  },
  {
   "cell_type": "code",
   "execution_count": 18,
   "source": [
    "a = torch.tensor([\r\n",
    "    [\r\n",
    "        [0.8,0.1,0.1],\r\n",
    "        [0.4,0.3,0.3]\r\n",
    "    ],\r\n",
    "    [\r\n",
    "        [0.7,0.2,0.1],\r\n",
    "        [0.6,0.3,0.1]\r\n",
    "    ]\r\n",
    "])"
   ],
   "outputs": [],
   "metadata": {}
  },
  {
   "cell_type": "markdown",
   "source": [],
   "metadata": {}
  },
  {
   "cell_type": "code",
   "execution_count": 19,
   "source": [
    "b = torch.tensor([\r\n",
    "    [\r\n",
    "        [0.2,0.2,0.2,0.2,0.2],\r\n",
    "        [0.3,0.3,0.3,0.3,0.3],\r\n",
    "        [0.8,0.8,0.8,0.8,0.8],\r\n",
    "    ],\r\n",
    "    [\r\n",
    "        [0.2,0.2,0.2,0.2,0.2],\r\n",
    "        [0.3,0.3,0.3,0.3,0.3],\r\n",
    "        [0.8,0.8,0.8,0.8,0.8],\r\n",
    "    ]\r\n",
    "])"
   ],
   "outputs": [],
   "metadata": {}
  },
  {
   "cell_type": "code",
   "execution_count": 30,
   "source": [
    "compute_regularization(a,b)"
   ],
   "outputs": [
    {
     "output_type": "execute_result",
     "data": {
      "text/plain": [
       "tensor(11648.8193)"
      ]
     },
     "metadata": {},
     "execution_count": 30
    }
   ],
   "metadata": {}
  },
  {
   "cell_type": "code",
   "execution_count": 29,
   "source": [
    "b = torch.randn(448,18,512)\r\n",
    "a = torch.randn(448,15,18)"
   ],
   "outputs": [],
   "metadata": {}
  },
  {
   "cell_type": "code",
   "execution_count": 33,
   "source": [
    "import matplotlib.pyplot as plt\r\n",
    "from pylab import *                                 #支持中文\r\n",
    "mpl.rcParams['font.sans-serif'] = ['SimHei']\r\n",
    "\r\n",
    "y = [0.855, 0.84, 0.835, 0.815, 0.81,0.1]\r\n",
    "y1=[0.86,0.85,0.853,0.849,0.83,0.1]\r\n",
    "names = range(len(y))\r\n",
    "x = range(len(names))\r\n",
    "plt.plot(x, y, marker='o', mec='r', mfc='w',label=u'y=x^2曲线图')\r\n",
    "plt.plot(x, y1, marker='*', ms=10,label=u'y=x^3曲线图')\r\n",
    "plt.legend()  # 让图例生效\r\n",
    "plt.xticks(x, names, rotation=45)\r\n",
    "plt.margins(0)\r\n",
    "plt.subplots_adjust(bottom=0.15)\r\n",
    "plt.xlabel(u\"time(s)邻居\") #X轴标签\r\n",
    "plt.ylabel(\"RMSE\") #Y轴标签\r\n",
    "plt.title(\"A simple plot\") #标题\r\n",
    "\r\n",
    "plt.show()"
   ],
   "outputs": [
    {
     "output_type": "display_data",
     "data": {
      "text/plain": [
       "<Figure size 432x288 with 1 Axes>"
      ],
      "image/svg+xml": "<?xml version=\"1.0\" encoding=\"utf-8\" standalone=\"no\"?>\r\n<!DOCTYPE svg PUBLIC \"-//W3C//DTD SVG 1.1//EN\"\r\n  \"http://www.w3.org/Graphics/SVG/1.1/DTD/svg11.dtd\">\r\n<svg height=\"268.600464pt\" version=\"1.1\" viewBox=\"0 0 387.965388 268.600464\" width=\"387.965388pt\" xmlns=\"http://www.w3.org/2000/svg\" xmlns:xlink=\"http://www.w3.org/1999/xlink\">\r\n <metadata>\r\n  <rdf:RDF xmlns:cc=\"http://creativecommons.org/ns#\" xmlns:dc=\"http://purl.org/dc/elements/1.1/\" xmlns:rdf=\"http://www.w3.org/1999/02/22-rdf-syntax-ns#\">\r\n   <cc:Work>\r\n    <dc:type rdf:resource=\"http://purl.org/dc/dcmitype/StillImage\"/>\r\n    <dc:date>2021-08-23T12:23:37.479086</dc:date>\r\n    <dc:format>image/svg+xml</dc:format>\r\n    <dc:creator>\r\n     <cc:Agent>\r\n      <dc:title>Matplotlib v3.4.1, https://matplotlib.org/</dc:title>\r\n     </cc:Agent>\r\n    </dc:creator>\r\n   </cc:Work>\r\n  </rdf:RDF>\r\n </metadata>\r\n <defs>\r\n  <style type=\"text/css\">*{stroke-linecap:butt;stroke-linejoin:round;}</style>\r\n </defs>\r\n <g id=\"figure_1\">\r\n  <g id=\"patch_1\">\r\n   <path d=\"M 0 268.600464 \r\nL 387.965388 268.600464 \r\nL 387.965388 0 \r\nL 0 0 \r\nz\r\n\" style=\"fill:none;\"/>\r\n  </g>\r\n  <g id=\"axes_1\">\r\n   <g id=\"patch_2\">\r\n    <path d=\"M 41.325 231.78375 \r\nL 376.125 231.78375 \r\nL 376.125 21.54375 \r\nL 41.325 21.54375 \r\nz\r\n\" style=\"fill:#ffffff;\"/>\r\n   </g>\r\n   <g id=\"matplotlib.axis_1\">\r\n    <g id=\"xtick_1\">\r\n     <g id=\"line2d_1\">\r\n      <defs>\r\n       <path d=\"M 0 0 \r\nL 0 3.5 \r\n\" id=\"m25134fe090\" style=\"stroke:#000000;stroke-width:0.8;\"/>\r\n      </defs>\r\n      <g>\r\n       <use style=\"stroke:#000000;stroke-width:0.8;\" x=\"41.325\" xlink:href=\"#m25134fe090\" y=\"231.78375\"/>\r\n      </g>\r\n     </g>\r\n     <g id=\"text_1\">\r\n      <!-- 0 -->\r\n      <g transform=\"translate(41.545971 247.180643)rotate(-45)scale(0.1 -0.1)\">\r\n       <defs>\r\n        <path d=\"M 225 2537 \r\nQ 250 3200 412 3587 \r\nQ 575 3975 875 4225 \r\nQ 1175 4475 1612 4475 \r\nQ 2050 4475 2375 4112 \r\nQ 2700 3750 2800 3200 \r\nQ 2900 2650 2862 1937 \r\nQ 2825 1225 2612 775 \r\nQ 2400 325 1975 150 \r\nQ 1550 -25 1125 187 \r\nQ 700 400 525 750 \r\nQ 350 1100 275 1487 \r\nQ 200 1875 225 2537 \r\nz\r\nM 750 2687 \r\nQ 675 2000 800 1462 \r\nQ 925 925 1212 700 \r\nQ 1500 475 1800 612 \r\nQ 2100 750 2237 1162 \r\nQ 2375 1575 2375 2062 \r\nQ 2375 2550 2337 2950 \r\nQ 2300 3350 2112 3675 \r\nQ 1925 4000 1612 4012 \r\nQ 1300 4025 1062 3700 \r\nQ 825 3375 750 2687 \r\nz\r\n\" id=\"SimHei-30\" transform=\"scale(0.015625)\"/>\r\n       </defs>\r\n       <use xlink:href=\"#SimHei-30\"/>\r\n      </g>\r\n     </g>\r\n    </g>\r\n    <g id=\"xtick_2\">\r\n     <g id=\"line2d_2\">\r\n      <g>\r\n       <use style=\"stroke:#000000;stroke-width:0.8;\" x=\"108.285\" xlink:href=\"#m25134fe090\" y=\"231.78375\"/>\r\n      </g>\r\n     </g>\r\n     <g id=\"text_2\">\r\n      <!-- 1 -->\r\n      <g transform=\"translate(108.505971 247.180643)rotate(-45)scale(0.1 -0.1)\">\r\n       <defs>\r\n        <path d=\"M 1400 3600 \r\nQ 1075 3275 575 2975 \r\nL 575 3450 \r\nQ 1200 3875 1600 4450 \r\nL 1900 4450 \r\nL 1900 150 \r\nL 1400 150 \r\nL 1400 3600 \r\nz\r\n\" id=\"SimHei-31\" transform=\"scale(0.015625)\"/>\r\n       </defs>\r\n       <use xlink:href=\"#SimHei-31\"/>\r\n      </g>\r\n     </g>\r\n    </g>\r\n    <g id=\"xtick_3\">\r\n     <g id=\"line2d_3\">\r\n      <g>\r\n       <use style=\"stroke:#000000;stroke-width:0.8;\" x=\"175.245\" xlink:href=\"#m25134fe090\" y=\"231.78375\"/>\r\n      </g>\r\n     </g>\r\n     <g id=\"text_3\">\r\n      <!-- 2 -->\r\n      <g transform=\"translate(175.465971 247.180643)rotate(-45)scale(0.1 -0.1)\">\r\n       <defs>\r\n        <path d=\"M 300 250 \r\nQ 325 625 650 925 \r\nQ 975 1225 1475 1862 \r\nQ 1975 2500 2125 2850 \r\nQ 2275 3200 2237 3450 \r\nQ 2200 3700 2000 3862 \r\nQ 1800 4025 1537 4000 \r\nQ 1275 3975 1037 3800 \r\nQ 800 3625 675 3275 \r\nL 200 3350 \r\nQ 400 3925 712 4187 \r\nQ 1025 4450 1450 4475 \r\nQ 1700 4500 1900 4462 \r\nQ 2100 4425 2312 4287 \r\nQ 2525 4150 2662 3875 \r\nQ 2800 3600 2762 3212 \r\nQ 2725 2825 2375 2287 \r\nQ 2025 1750 1025 600 \r\nL 2825 600 \r\nL 2825 150 \r\nL 300 150 \r\nL 300 250 \r\nz\r\n\" id=\"SimHei-32\" transform=\"scale(0.015625)\"/>\r\n       </defs>\r\n       <use xlink:href=\"#SimHei-32\"/>\r\n      </g>\r\n     </g>\r\n    </g>\r\n    <g id=\"xtick_4\">\r\n     <g id=\"line2d_4\">\r\n      <g>\r\n       <use style=\"stroke:#000000;stroke-width:0.8;\" x=\"242.205\" xlink:href=\"#m25134fe090\" y=\"231.78375\"/>\r\n      </g>\r\n     </g>\r\n     <g id=\"text_4\">\r\n      <!-- 3 -->\r\n      <g transform=\"translate(242.425971 247.180643)rotate(-45)scale(0.1 -0.1)\">\r\n       <defs>\r\n        <path d=\"M 250 1225 \r\nL 700 1300 \r\nQ 800 975 1025 762 \r\nQ 1250 550 1587 562 \r\nQ 1925 575 2125 837 \r\nQ 2325 1100 2300 1437 \r\nQ 2275 1775 2037 1962 \r\nQ 1800 2150 1275 2225 \r\nL 1275 2550 \r\nQ 1800 2600 2037 2825 \r\nQ 2275 3050 2250 3412 \r\nQ 2225 3775 1925 3937 \r\nQ 1625 4100 1287 3975 \r\nQ 950 3850 750 3275 \r\nL 300 3350 \r\nQ 450 3800 712 4100 \r\nQ 975 4400 1425 4450 \r\nQ 1875 4500 2212 4337 \r\nQ 2550 4175 2687 3837 \r\nQ 2825 3500 2725 3100 \r\nQ 2625 2700 2150 2400 \r\nQ 2500 2250 2687 1950 \r\nQ 2875 1650 2812 1162 \r\nQ 2750 675 2375 375 \r\nQ 2000 75 1525 87 \r\nQ 1050 100 700 387 \r\nQ 350 675 250 1225 \r\nz\r\n\" id=\"SimHei-33\" transform=\"scale(0.015625)\"/>\r\n       </defs>\r\n       <use xlink:href=\"#SimHei-33\"/>\r\n      </g>\r\n     </g>\r\n    </g>\r\n    <g id=\"xtick_5\">\r\n     <g id=\"line2d_5\">\r\n      <g>\r\n       <use style=\"stroke:#000000;stroke-width:0.8;\" x=\"309.165\" xlink:href=\"#m25134fe090\" y=\"231.78375\"/>\r\n      </g>\r\n     </g>\r\n     <g id=\"text_5\">\r\n      <!-- 4 -->\r\n      <g transform=\"translate(309.385971 247.180643)rotate(-45)scale(0.1 -0.1)\">\r\n       <defs>\r\n        <path d=\"M 2000 1100 \r\nL 75 1100 \r\nL 75 1525 \r\nL 2100 4450 \r\nL 2475 4450 \r\nL 2475 1525 \r\nL 3075 1525 \r\nL 3075 1100 \r\nL 2475 1100 \r\nL 2475 150 \r\nL 2000 150 \r\nL 2000 1100 \r\nz\r\nM 2000 1525 \r\nL 2000 3500 \r\nL 600 1525 \r\nL 2000 1525 \r\nz\r\n\" id=\"SimHei-34\" transform=\"scale(0.015625)\"/>\r\n       </defs>\r\n       <use xlink:href=\"#SimHei-34\"/>\r\n      </g>\r\n     </g>\r\n    </g>\r\n    <g id=\"xtick_6\">\r\n     <g id=\"line2d_6\">\r\n      <g>\r\n       <use style=\"stroke:#000000;stroke-width:0.8;\" x=\"376.125\" xlink:href=\"#m25134fe090\" y=\"231.78375\"/>\r\n      </g>\r\n     </g>\r\n     <g id=\"text_6\">\r\n      <!-- 5 -->\r\n      <g transform=\"translate(376.345971 247.180643)rotate(-45)scale(0.1 -0.1)\">\r\n       <defs>\r\n        <path d=\"M 550 1325 \r\nQ 725 650 1150 575 \r\nQ 1575 500 1837 662 \r\nQ 2100 825 2212 1087 \r\nQ 2325 1350 2312 1675 \r\nQ 2300 2000 2137 2225 \r\nQ 1975 2450 1725 2525 \r\nQ 1475 2600 1162 2525 \r\nQ 850 2450 650 2175 \r\nL 225 2225 \r\nQ 275 2375 700 4375 \r\nL 2675 4375 \r\nL 2675 3925 \r\nL 1075 3925 \r\nQ 950 3250 825 2850 \r\nQ 1200 3025 1525 3012 \r\nQ 1850 3000 2150 2862 \r\nQ 2450 2725 2587 2487 \r\nQ 2725 2250 2787 2012 \r\nQ 2850 1775 2837 1500 \r\nQ 2825 1225 2725 937 \r\nQ 2625 650 2425 462 \r\nQ 2225 275 1937 162 \r\nQ 1650 50 1275 75 \r\nQ 900 100 562 350 \r\nQ 225 600 100 1200 \r\nL 550 1325 \r\nz\r\n\" id=\"SimHei-35\" transform=\"scale(0.015625)\"/>\r\n       </defs>\r\n       <use xlink:href=\"#SimHei-35\"/>\r\n      </g>\r\n     </g>\r\n    </g>\r\n    <g id=\"text_7\">\r\n     <!-- time(s)邻居 -->\r\n     <g transform=\"translate(181.225 260.150464)scale(0.1 -0.1)\">\r\n      <defs>\r\n       <path d=\"M 2750 200 \r\nQ 2625 150 2462 112 \r\nQ 2300 75 2025 75 \r\nQ 1575 75 1300 325 \r\nQ 1025 575 1025 1025 \r\nL 1025 2525 \r\nL 175 2525 \r\nL 175 2925 \r\nL 1025 2925 \r\nL 1025 3900 \r\nL 1525 3900 \r\nL 1525 2925 \r\nL 2550 2925 \r\nL 2550 2525 \r\nL 1525 2525 \r\nL 1525 1000 \r\nQ 1525 800 1625 662 \r\nQ 1725 525 2000 525 \r\nQ 2275 525 2450 575 \r\nQ 2625 625 2750 700 \r\nL 2750 200 \r\nz\r\n\" id=\"SimHei-74\" transform=\"scale(0.015625)\"/>\r\n       <path d=\"M 1800 3725 \r\nL 1300 3725 \r\nL 1300 4375 \r\nL 1800 4375 \r\nL 1800 3725 \r\nz\r\nM 1800 125 \r\nL 1300 125 \r\nL 1300 2925 \r\nL 1800 2925 \r\nL 1800 125 \r\nz\r\n\" id=\"SimHei-69\" transform=\"scale(0.015625)\"/>\r\n       <path d=\"M 3050 125 \r\nL 2550 125 \r\nL 2550 2150 \r\nQ 2550 2300 2500 2400 \r\nQ 2450 2500 2300 2500 \r\nQ 2125 2500 1975 2312 \r\nQ 1825 2125 1825 1825 \r\nL 1825 125 \r\nL 1325 125 \r\nL 1325 2150 \r\nQ 1325 2300 1275 2400 \r\nQ 1225 2500 1075 2500 \r\nQ 900 2500 750 2312 \r\nQ 600 2125 600 1825 \r\nL 600 125 \r\nL 100 125 \r\nL 100 2925 \r\nL 600 2925 \r\nL 600 2550 \r\nQ 725 2750 900 2862 \r\nQ 1075 2975 1275 2975 \r\nQ 1475 2975 1612 2862 \r\nQ 1750 2750 1800 2550 \r\nQ 1925 2750 2087 2862 \r\nQ 2250 2975 2450 2975 \r\nQ 2750 2975 2900 2812 \r\nQ 3050 2650 3050 2350 \r\nL 3050 125 \r\nz\r\n\" id=\"SimHei-6d\" transform=\"scale(0.015625)\"/>\r\n       <path d=\"M 2850 1075 \r\nQ 2800 625 2450 350 \r\nQ 2100 75 1625 75 \r\nQ 1025 75 637 462 \r\nQ 250 850 250 1525 \r\nQ 250 2200 637 2587 \r\nQ 1025 2975 1625 2975 \r\nQ 2150 2975 2487 2637 \r\nQ 2825 2300 2825 1525 \r\nL 800 1525 \r\nQ 800 975 1037 750 \r\nQ 1275 525 1625 525 \r\nQ 1900 525 2075 662 \r\nQ 2250 800 2300 1075 \r\nL 2850 1075 \r\nz\r\nM 2250 1925 \r\nQ 2200 2275 2025 2412 \r\nQ 1850 2550 1575 2550 \r\nQ 1325 2550 1125 2412 \r\nQ 925 2275 825 1925 \r\nL 2250 1925 \r\nz\r\n\" id=\"SimHei-65\" transform=\"scale(0.015625)\"/>\r\n       <path d=\"M 2975 -200 \r\nL 2700 -475 \r\nQ 2075 125 1762 775 \r\nQ 1450 1425 1450 2250 \r\nQ 1450 3075 1762 3725 \r\nQ 2075 4375 2700 5000 \r\nL 2975 4725 \r\nQ 2400 4175 2112 3587 \r\nQ 1825 3000 1825 2250 \r\nQ 1825 1500 2112 912 \r\nQ 2400 325 2975 -200 \r\nz\r\n\" id=\"SimHei-28\" transform=\"scale(0.015625)\"/>\r\n       <path d=\"M 2750 900 \r\nQ 2750 500 2437 287 \r\nQ 2125 75 1650 75 \r\nQ 1050 75 725 312 \r\nQ 400 550 400 1000 \r\nL 900 1000 \r\nQ 900 700 1112 600 \r\nQ 1325 500 1625 500 \r\nQ 1925 500 2075 612 \r\nQ 2225 725 2225 900 \r\nQ 2225 1025 2100 1150 \r\nQ 1975 1275 1475 1350 \r\nQ 900 1425 687 1637 \r\nQ 475 1850 475 2200 \r\nQ 475 2500 762 2737 \r\nQ 1050 2975 1600 2975 \r\nQ 2100 2975 2387 2750 \r\nQ 2675 2525 2675 2150 \r\nL 2175 2150 \r\nQ 2175 2375 2012 2462 \r\nQ 1850 2550 1600 2550 \r\nQ 1275 2550 1137 2437 \r\nQ 1000 2325 1000 2175 \r\nQ 1000 2000 1125 1900 \r\nQ 1250 1800 1650 1750 \r\nQ 2300 1650 2525 1437 \r\nQ 2750 1225 2750 900 \r\nz\r\n\" id=\"SimHei-73\" transform=\"scale(0.015625)\"/>\r\n       <path d=\"M 1675 2250 \r\nQ 1675 1425 1362 775 \r\nQ 1050 125 425 -475 \r\nL 150 -200 \r\nQ 725 325 1012 912 \r\nQ 1300 1500 1300 2250 \r\nQ 1300 3000 1012 3587 \r\nQ 725 4175 150 4725 \r\nL 425 5000 \r\nQ 1050 4375 1362 3725 \r\nQ 1675 3075 1675 2250 \r\nz\r\n\" id=\"SimHei-29\" transform=\"scale(0.015625)\"/>\r\n       <path d=\"M 6000 4950 \r\nQ 5675 3825 5375 2775 \r\nQ 5775 2300 5962 1800 \r\nQ 6150 1300 6100 950 \r\nQ 6050 600 5787 450 \r\nQ 5525 300 4975 175 \r\nQ 4925 400 4750 775 \r\nQ 5150 800 5362 875 \r\nQ 5575 950 5587 1150 \r\nQ 5600 1350 5437 1800 \r\nQ 5275 2250 4875 2725 \r\nQ 5025 3125 5400 4525 \r\nL 4325 4525 \r\nL 4325 -675 \r\nL 3850 -675 \r\nQ 3875 -125 3875 450 \r\nL 3875 3775 \r\nQ 3875 4425 3850 4950 \r\nL 6000 4950 \r\nz\r\nM 3400 2275 \r\nQ 3250 1850 2325 375 \r\nQ 2500 150 2750 -175 \r\nQ 2525 -350 2300 -550 \r\nQ 1850 75 1050 925 \r\nQ 1275 1075 1450 1250 \r\nQ 1750 925 2000 725 \r\nQ 2250 1075 2625 1825 \r\nL 1525 1825 \r\nQ 1025 1825 650 1800 \r\nL 650 2300 \r\nQ 1025 2275 1525 2275 \r\nL 3400 2275 \r\nz\r\nM 2250 4775 \r\nQ 3250 4000 3675 3575 \r\nQ 3425 3375 3250 3125 \r\nQ 2725 3850 2000 4400 \r\nQ 1700 3900 1412 3550 \r\nQ 1125 3200 625 2700 \r\nQ 475 2875 200 3050 \r\nQ 725 3425 1200 4075 \r\nQ 1675 4725 1875 5300 \r\nQ 2075 5150 2400 5025 \r\nL 2250 4775 \r\nz\r\nM 2100 3575 \r\nQ 2375 2875 2450 2650 \r\nQ 2175 2550 1925 2475 \r\nQ 1850 2850 1600 3400 \r\nQ 1875 3475 2100 3575 \r\nz\r\n\" id=\"SimHei-90bb\" transform=\"scale(0.015625)\"/>\r\n       <path d=\"M 5500 4950 \r\nQ 5475 4525 5475 4200 \r\nQ 5475 3875 5500 3475 \r\nL 3875 3475 \r\nL 3875 2700 \r\nL 4950 2700 \r\nQ 5500 2700 6025 2725 \r\nL 6025 2250 \r\nQ 5500 2275 4950 2275 \r\nL 3875 2275 \r\nL 3875 1475 \r\nL 5500 1475 \r\nQ 5475 1000 5475 475 \r\nQ 5475 -50 5500 -550 \r\nL 5000 -550 \r\nL 5000 -125 \r\nL 2375 -125 \r\nL 2375 -575 \r\nL 1900 -575 \r\nQ 1925 -25 1925 500 \r\nQ 1925 1025 1900 1475 \r\nL 3375 1475 \r\nL 3375 2275 \r\nL 1500 2275 \r\nQ 1400 1225 1162 537 \r\nQ 925 -150 700 -500 \r\nQ 500 -275 225 -125 \r\nQ 550 225 700 700 \r\nQ 850 1175 912 1700 \r\nQ 975 2225 987 3100 \r\nQ 1000 3975 975 4950 \r\nL 5500 4950 \r\nz\r\nM 5000 3900 \r\nL 5000 4525 \r\nL 1500 4525 \r\nL 1500 3900 \r\nL 5000 3900 \r\nz\r\nM 5000 275 \r\nL 5000 1075 \r\nL 2375 1075 \r\nL 2375 275 \r\nL 5000 275 \r\nz\r\nM 3375 2700 \r\nL 3375 3475 \r\nL 1500 3475 \r\nL 1500 2700 \r\nL 3375 2700 \r\nz\r\n\" id=\"SimHei-5c45\" transform=\"scale(0.015625)\"/>\r\n      </defs>\r\n      <use xlink:href=\"#SimHei-74\"/>\r\n      <use x=\"50\" xlink:href=\"#SimHei-69\"/>\r\n      <use x=\"100\" xlink:href=\"#SimHei-6d\"/>\r\n      <use x=\"150\" xlink:href=\"#SimHei-65\"/>\r\n      <use x=\"200\" xlink:href=\"#SimHei-28\"/>\r\n      <use x=\"250\" xlink:href=\"#SimHei-73\"/>\r\n      <use x=\"300\" xlink:href=\"#SimHei-29\"/>\r\n      <use x=\"350\" xlink:href=\"#SimHei-90bb\"/>\r\n      <use x=\"450\" xlink:href=\"#SimHei-5c45\"/>\r\n     </g>\r\n    </g>\r\n   </g>\r\n   <g id=\"matplotlib.axis_2\">\r\n    <g id=\"ytick_1\">\r\n     <g id=\"line2d_7\">\r\n      <defs>\r\n       <path d=\"M 0 0 \r\nL -3.5 0 \r\n\" id=\"m64d82ae7e4\" style=\"stroke:#000000;stroke-width:0.8;\"/>\r\n      </defs>\r\n      <g>\r\n       <use style=\"stroke:#000000;stroke-width:0.8;\" x=\"41.325\" xlink:href=\"#m64d82ae7e4\" y=\"231.78375\"/>\r\n      </g>\r\n     </g>\r\n     <g id=\"text_8\">\r\n      <!-- 0.1 -->\r\n      <g transform=\"translate(19.325 235.22125)scale(0.1 -0.1)\">\r\n       <defs>\r\n        <path d=\"M 1075 125 \r\nL 500 125 \r\nL 500 675 \r\nL 1075 675 \r\nL 1075 125 \r\nz\r\n\" id=\"SimHei-2e\" transform=\"scale(0.015625)\"/>\r\n       </defs>\r\n       <use xlink:href=\"#SimHei-30\"/>\r\n       <use x=\"50\" xlink:href=\"#SimHei-2e\"/>\r\n       <use x=\"100\" xlink:href=\"#SimHei-31\"/>\r\n      </g>\r\n     </g>\r\n    </g>\r\n    <g id=\"ytick_2\">\r\n     <g id=\"line2d_8\">\r\n      <g>\r\n       <use style=\"stroke:#000000;stroke-width:0.8;\" x=\"41.325\" xlink:href=\"#m64d82ae7e4\" y=\"204.120592\"/>\r\n      </g>\r\n     </g>\r\n     <g id=\"text_9\">\r\n      <!-- 0.2 -->\r\n      <g transform=\"translate(19.325 207.558092)scale(0.1 -0.1)\">\r\n       <use xlink:href=\"#SimHei-30\"/>\r\n       <use x=\"50\" xlink:href=\"#SimHei-2e\"/>\r\n       <use x=\"100\" xlink:href=\"#SimHei-32\"/>\r\n      </g>\r\n     </g>\r\n    </g>\r\n    <g id=\"ytick_3\">\r\n     <g id=\"line2d_9\">\r\n      <g>\r\n       <use style=\"stroke:#000000;stroke-width:0.8;\" x=\"41.325\" xlink:href=\"#m64d82ae7e4\" y=\"176.457434\"/>\r\n      </g>\r\n     </g>\r\n     <g id=\"text_10\">\r\n      <!-- 0.3 -->\r\n      <g transform=\"translate(19.325 179.894934)scale(0.1 -0.1)\">\r\n       <use xlink:href=\"#SimHei-30\"/>\r\n       <use x=\"50\" xlink:href=\"#SimHei-2e\"/>\r\n       <use x=\"100\" xlink:href=\"#SimHei-33\"/>\r\n      </g>\r\n     </g>\r\n    </g>\r\n    <g id=\"ytick_4\">\r\n     <g id=\"line2d_10\">\r\n      <g>\r\n       <use style=\"stroke:#000000;stroke-width:0.8;\" x=\"41.325\" xlink:href=\"#m64d82ae7e4\" y=\"148.794276\"/>\r\n      </g>\r\n     </g>\r\n     <g id=\"text_11\">\r\n      <!-- 0.4 -->\r\n      <g transform=\"translate(19.325 152.231776)scale(0.1 -0.1)\">\r\n       <use xlink:href=\"#SimHei-30\"/>\r\n       <use x=\"50\" xlink:href=\"#SimHei-2e\"/>\r\n       <use x=\"100\" xlink:href=\"#SimHei-34\"/>\r\n      </g>\r\n     </g>\r\n    </g>\r\n    <g id=\"ytick_5\">\r\n     <g id=\"line2d_11\">\r\n      <g>\r\n       <use style=\"stroke:#000000;stroke-width:0.8;\" x=\"41.325\" xlink:href=\"#m64d82ae7e4\" y=\"121.131118\"/>\r\n      </g>\r\n     </g>\r\n     <g id=\"text_12\">\r\n      <!-- 0.5 -->\r\n      <g transform=\"translate(19.325 124.568618)scale(0.1 -0.1)\">\r\n       <use xlink:href=\"#SimHei-30\"/>\r\n       <use x=\"50\" xlink:href=\"#SimHei-2e\"/>\r\n       <use x=\"100\" xlink:href=\"#SimHei-35\"/>\r\n      </g>\r\n     </g>\r\n    </g>\r\n    <g id=\"ytick_6\">\r\n     <g id=\"line2d_12\">\r\n      <g>\r\n       <use style=\"stroke:#000000;stroke-width:0.8;\" x=\"41.325\" xlink:href=\"#m64d82ae7e4\" y=\"93.467961\"/>\r\n      </g>\r\n     </g>\r\n     <g id=\"text_13\">\r\n      <!-- 0.6 -->\r\n      <g transform=\"translate(19.325 96.905461)scale(0.1 -0.1)\">\r\n       <defs>\r\n        <path d=\"M 250 1612 \r\nQ 275 1975 387 2225 \r\nQ 500 2475 725 2850 \r\nL 1750 4450 \r\nL 2325 4450 \r\nL 1275 2800 \r\nQ 1950 2975 2350 2750 \r\nQ 2750 2525 2887 2237 \r\nQ 3025 1950 3037 1612 \r\nQ 3050 1275 2937 950 \r\nQ 2825 625 2537 362 \r\nQ 2250 100 1737 75 \r\nQ 1225 50 862 262 \r\nQ 500 475 362 862 \r\nQ 225 1250 250 1612 \r\nz\r\nM 1025 787 \r\nQ 1250 550 1625 525 \r\nQ 2000 500 2250 775 \r\nQ 2500 1050 2500 1575 \r\nQ 2500 2100 2187 2300 \r\nQ 1875 2500 1487 2450 \r\nQ 1100 2400 925 2075 \r\nQ 750 1750 775 1387 \r\nQ 800 1025 1025 787 \r\nz\r\n\" id=\"SimHei-36\" transform=\"scale(0.015625)\"/>\r\n       </defs>\r\n       <use xlink:href=\"#SimHei-30\"/>\r\n       <use x=\"50\" xlink:href=\"#SimHei-2e\"/>\r\n       <use x=\"100\" xlink:href=\"#SimHei-36\"/>\r\n      </g>\r\n     </g>\r\n    </g>\r\n    <g id=\"ytick_7\">\r\n     <g id=\"line2d_13\">\r\n      <g>\r\n       <use style=\"stroke:#000000;stroke-width:0.8;\" x=\"41.325\" xlink:href=\"#m64d82ae7e4\" y=\"65.804803\"/>\r\n      </g>\r\n     </g>\r\n     <g id=\"text_14\">\r\n      <!-- 0.7 -->\r\n      <g transform=\"translate(19.325 69.242303)scale(0.1 -0.1)\">\r\n       <defs>\r\n        <path d=\"M 850 150 \r\nQ 1300 2050 2425 3925 \r\nL 275 3925 \r\nL 275 4375 \r\nL 2950 4375 \r\nL 2950 3950 \r\nQ 1775 2050 1400 150 \r\nL 850 150 \r\nz\r\n\" id=\"SimHei-37\" transform=\"scale(0.015625)\"/>\r\n       </defs>\r\n       <use xlink:href=\"#SimHei-30\"/>\r\n       <use x=\"50\" xlink:href=\"#SimHei-2e\"/>\r\n       <use x=\"100\" xlink:href=\"#SimHei-37\"/>\r\n      </g>\r\n     </g>\r\n    </g>\r\n    <g id=\"ytick_8\">\r\n     <g id=\"line2d_14\">\r\n      <g>\r\n       <use style=\"stroke:#000000;stroke-width:0.8;\" x=\"41.325\" xlink:href=\"#m64d82ae7e4\" y=\"38.141645\"/>\r\n      </g>\r\n     </g>\r\n     <g id=\"text_15\">\r\n      <!-- 0.8 -->\r\n      <g transform=\"translate(19.325 41.579145)scale(0.1 -0.1)\">\r\n       <defs>\r\n        <path d=\"M 175 1375 \r\nQ 175 1675 325 1962 \r\nQ 475 2250 825 2425 \r\nQ 525 2600 425 2812 \r\nQ 325 3025 312 3300 \r\nQ 300 3575 387 3775 \r\nQ 475 3975 650 4150 \r\nQ 825 4325 1037 4387 \r\nQ 1250 4450 1500 4450 \r\nQ 1750 4450 1950 4400 \r\nQ 2150 4350 2375 4187 \r\nQ 2600 4025 2700 3725 \r\nQ 2800 3425 2687 3025 \r\nQ 2575 2625 2100 2400 \r\nQ 2525 2275 2700 2012 \r\nQ 2875 1750 2875 1375 \r\nQ 2875 1000 2762 775 \r\nQ 2650 550 2512 400 \r\nQ 2375 250 2137 162 \r\nQ 1900 75 1537 75 \r\nQ 1175 75 912 162 \r\nQ 650 250 475 425 \r\nQ 300 600 237 837 \r\nQ 175 1075 175 1375 \r\nz\r\nM 687 1400 \r\nQ 675 1100 787 875 \r\nQ 900 650 1200 587 \r\nQ 1500 525 1825 600 \r\nQ 2150 675 2275 950 \r\nQ 2400 1225 2362 1500 \r\nQ 2325 1775 2050 1962 \r\nQ 1775 2150 1450 2125 \r\nQ 1125 2100 912 1900 \r\nQ 700 1700 687 1400 \r\nz\r\nM 775 3350 \r\nQ 775 3100 950 2875 \r\nQ 1125 2650 1500 2650 \r\nQ 1875 2650 2062 2875 \r\nQ 2250 3100 2237 3412 \r\nQ 2225 3725 2012 3875 \r\nQ 1800 4025 1437 4000 \r\nQ 1075 3975 925 3787 \r\nQ 775 3600 775 3350 \r\nz\r\n\" id=\"SimHei-38\" transform=\"scale(0.015625)\"/>\r\n       </defs>\r\n       <use xlink:href=\"#SimHei-30\"/>\r\n       <use x=\"50\" xlink:href=\"#SimHei-2e\"/>\r\n       <use x=\"100\" xlink:href=\"#SimHei-38\"/>\r\n      </g>\r\n     </g>\r\n    </g>\r\n    <g id=\"text_16\">\r\n     <!-- RMSE -->\r\n     <g transform=\"translate(14.075 136.66375)rotate(-90)scale(0.1 -0.1)\">\r\n      <defs>\r\n       <path d=\"M 3000 125 \r\nL 2400 125 \r\nL 1500 1975 \r\nL 850 1975 \r\nL 850 125 \r\nL 275 125 \r\nL 275 4400 \r\nL 1525 4400 \r\nQ 2125 4400 2500 4112 \r\nQ 2875 3825 2875 3175 \r\nQ 2875 2675 2625 2400 \r\nQ 2375 2125 2050 2050 \r\nL 3000 125 \r\nz\r\nM 2300 3175 \r\nQ 2300 3525 2087 3725 \r\nQ 1875 3925 1400 3925 \r\nL 850 3925 \r\nL 850 2450 \r\nL 1550 2450 \r\nQ 1850 2450 2075 2612 \r\nQ 2300 2775 2300 3175 \r\nz\r\n\" id=\"SimHei-52\" transform=\"scale(0.015625)\"/>\r\n       <path d=\"M 2925 125 \r\nL 2425 125 \r\nL 2425 3175 \r\nL 2375 3175 \r\nL 1775 125 \r\nL 1375 125 \r\nL 775 3175 \r\nL 725 3175 \r\nL 725 125 \r\nL 225 125 \r\nL 225 4400 \r\nL 1000 4400 \r\nL 1550 1575 \r\nL 1600 1575 \r\nL 2150 4400 \r\nL 2925 4400 \r\nL 2925 125 \r\nz\r\n\" id=\"SimHei-4d\" transform=\"scale(0.015625)\"/>\r\n       <path d=\"M 2900 1325 \r\nQ 2900 750 2537 412 \r\nQ 2175 75 1550 75 \r\nQ 925 75 575 425 \r\nQ 225 775 225 1300 \r\nL 225 1475 \r\nL 800 1475 \r\nL 800 1325 \r\nQ 800 950 1025 750 \r\nQ 1250 550 1550 550 \r\nQ 1950 550 2137 762 \r\nQ 2325 975 2325 1275 \r\nQ 2325 1525 2100 1737 \r\nQ 1875 1950 1450 2125 \r\nQ 850 2350 587 2625 \r\nQ 325 2900 325 3275 \r\nQ 325 3800 687 4125 \r\nQ 1050 4450 1550 4450 \r\nQ 2200 4450 2487 4062 \r\nQ 2775 3675 2775 3225 \r\nL 2200 3225 \r\nQ 2225 3500 2050 3725 \r\nQ 1875 3950 1550 3950 \r\nQ 1250 3950 1075 3787 \r\nQ 900 3625 900 3350 \r\nQ 900 3125 1037 2962 \r\nQ 1175 2800 1750 2575 \r\nQ 2300 2350 2600 2037 \r\nQ 2900 1725 2900 1325 \r\nz\r\n\" id=\"SimHei-53\" transform=\"scale(0.015625)\"/>\r\n       <path d=\"M 2900 125 \r\nL 350 125 \r\nL 350 4400 \r\nL 2775 4400 \r\nL 2775 3925 \r\nL 925 3925 \r\nL 925 2600 \r\nL 2625 2600 \r\nL 2625 2125 \r\nL 925 2125 \r\nL 925 600 \r\nL 2900 600 \r\nL 2900 125 \r\nz\r\n\" id=\"SimHei-45\" transform=\"scale(0.015625)\"/>\r\n      </defs>\r\n      <use xlink:href=\"#SimHei-52\"/>\r\n      <use x=\"50\" xlink:href=\"#SimHei-4d\"/>\r\n      <use x=\"100\" xlink:href=\"#SimHei-53\"/>\r\n      <use x=\"150\" xlink:href=\"#SimHei-45\"/>\r\n     </g>\r\n    </g>\r\n   </g>\r\n   <g id=\"line2d_15\">\r\n    <path clip-path=\"url(#p4a18964fd3)\" d=\"M 41.325 22.926908 \r\nL 108.285 27.076382 \r\nL 175.245 28.459539 \r\nL 242.205 33.992171 \r\nL 309.165 35.375329 \r\nL 376.125 231.78375 \r\n\" style=\"fill:none;stroke:#1f77b4;stroke-linecap:square;stroke-width:1.5;\"/>\r\n    <defs>\r\n     <path d=\"M 0 3 \r\nC 0.795609 3 1.55874 2.683901 2.12132 2.12132 \r\nC 2.683901 1.55874 3 0.795609 3 0 \r\nC 3 -0.795609 2.683901 -1.55874 2.12132 -2.12132 \r\nC 1.55874 -2.683901 0.795609 -3 0 -3 \r\nC -0.795609 -3 -1.55874 -2.683901 -2.12132 -2.12132 \r\nC -2.683901 -1.55874 -3 -0.795609 -3 0 \r\nC -3 0.795609 -2.683901 1.55874 -2.12132 2.12132 \r\nC -1.55874 2.683901 -0.795609 3 0 3 \r\nz\r\n\" id=\"m38549264e7\" style=\"stroke:#ff0000;\"/>\r\n    </defs>\r\n    <g clip-path=\"url(#p4a18964fd3)\">\r\n     <use style=\"fill:#ffffff;stroke:#ff0000;\" x=\"41.325\" xlink:href=\"#m38549264e7\" y=\"22.926908\"/>\r\n     <use style=\"fill:#ffffff;stroke:#ff0000;\" x=\"108.285\" xlink:href=\"#m38549264e7\" y=\"27.076382\"/>\r\n     <use style=\"fill:#ffffff;stroke:#ff0000;\" x=\"175.245\" xlink:href=\"#m38549264e7\" y=\"28.459539\"/>\r\n     <use style=\"fill:#ffffff;stroke:#ff0000;\" x=\"242.205\" xlink:href=\"#m38549264e7\" y=\"33.992171\"/>\r\n     <use style=\"fill:#ffffff;stroke:#ff0000;\" x=\"309.165\" xlink:href=\"#m38549264e7\" y=\"35.375329\"/>\r\n     <use style=\"fill:#ffffff;stroke:#ff0000;\" x=\"376.125\" xlink:href=\"#m38549264e7\" y=\"231.78375\"/>\r\n    </g>\r\n   </g>\r\n   <g id=\"line2d_16\">\r\n    <path clip-path=\"url(#p4a18964fd3)\" d=\"M 41.325 21.54375 \r\nL 108.285 24.310066 \r\nL 175.245 23.480171 \r\nL 242.205 24.586697 \r\nL 309.165 29.842697 \r\nL 376.125 231.78375 \r\n\" style=\"fill:none;stroke:#ff7f0e;stroke-linecap:square;stroke-width:1.5;\"/>\r\n    <defs>\r\n     <path d=\"M 0 -5 \r\nL -1.12257 -1.545085 \r\nL -4.755283 -1.545085 \r\nL -1.816356 0.59017 \r\nL -2.938926 4.045085 \r\nL -0 1.90983 \r\nL 2.938926 4.045085 \r\nL 1.816356 0.59017 \r\nL 4.755283 -1.545085 \r\nL 1.12257 -1.545085 \r\nz\r\n\" id=\"m0a6577c6c4\" style=\"stroke:#ff7f0e;stroke-linejoin:bevel;\"/>\r\n    </defs>\r\n    <g clip-path=\"url(#p4a18964fd3)\">\r\n     <use style=\"fill:#ff7f0e;stroke:#ff7f0e;stroke-linejoin:bevel;\" x=\"41.325\" xlink:href=\"#m0a6577c6c4\" y=\"21.54375\"/>\r\n     <use style=\"fill:#ff7f0e;stroke:#ff7f0e;stroke-linejoin:bevel;\" x=\"108.285\" xlink:href=\"#m0a6577c6c4\" y=\"24.310066\"/>\r\n     <use style=\"fill:#ff7f0e;stroke:#ff7f0e;stroke-linejoin:bevel;\" x=\"175.245\" xlink:href=\"#m0a6577c6c4\" y=\"23.480171\"/>\r\n     <use style=\"fill:#ff7f0e;stroke:#ff7f0e;stroke-linejoin:bevel;\" x=\"242.205\" xlink:href=\"#m0a6577c6c4\" y=\"24.586697\"/>\r\n     <use style=\"fill:#ff7f0e;stroke:#ff7f0e;stroke-linejoin:bevel;\" x=\"309.165\" xlink:href=\"#m0a6577c6c4\" y=\"29.842697\"/>\r\n     <use style=\"fill:#ff7f0e;stroke:#ff7f0e;stroke-linejoin:bevel;\" x=\"376.125\" xlink:href=\"#m0a6577c6c4\" y=\"231.78375\"/>\r\n    </g>\r\n   </g>\r\n   <g id=\"patch_3\">\r\n    <path d=\"M 41.325 231.78375 \r\nL 41.325 21.54375 \r\n\" style=\"fill:none;stroke:#000000;stroke-linecap:square;stroke-linejoin:miter;stroke-width:0.8;\"/>\r\n   </g>\r\n   <g id=\"patch_4\">\r\n    <path d=\"M 376.125 231.78375 \r\nL 376.125 21.54375 \r\n\" style=\"fill:none;stroke:#000000;stroke-linecap:square;stroke-linejoin:miter;stroke-width:0.8;\"/>\r\n   </g>\r\n   <g id=\"patch_5\">\r\n    <path d=\"M 41.325 231.78375 \r\nL 376.125 231.78375 \r\n\" style=\"fill:none;stroke:#000000;stroke-linecap:square;stroke-linejoin:miter;stroke-width:0.8;\"/>\r\n   </g>\r\n   <g id=\"patch_6\">\r\n    <path d=\"M 41.325 21.54375 \r\nL 376.125 21.54375 \r\n\" style=\"fill:none;stroke:#000000;stroke-linecap:square;stroke-linejoin:miter;stroke-width:0.8;\"/>\r\n   </g>\r\n   <g id=\"text_17\">\r\n    <!-- A simple plot -->\r\n    <g transform=\"translate(169.725 15.54375)scale(0.12 -0.12)\">\r\n     <defs>\r\n      <path d=\"M 3075 125 \r\nL 2475 125 \r\nL 2125 1450 \r\nL 1025 1450 \r\nL 675 125 \r\nL 75 125 \r\nL 1325 4450 \r\nL 1825 4450 \r\nL 3075 125 \r\nz\r\nM 2000 1925 \r\nL 1600 3450 \r\nL 1550 3450 \r\nL 1150 1925 \r\nL 2000 1925 \r\nz\r\n\" id=\"SimHei-41\" transform=\"scale(0.015625)\"/>\r\n      <path id=\"SimHei-20\" transform=\"scale(0.015625)\"/>\r\n      <path d=\"M 2825 1525 \r\nQ 2825 800 2475 425 \r\nQ 2125 50 1625 50 \r\nQ 1350 50 1150 162 \r\nQ 950 275 800 500 \r\nL 800 -800 \r\nL 300 -800 \r\nL 300 2925 \r\nL 800 2925 \r\nL 800 2550 \r\nQ 950 2775 1150 2875 \r\nQ 1350 2975 1625 2975 \r\nQ 2125 2975 2475 2612 \r\nQ 2825 2250 2825 1525 \r\nz\r\nM 2275 1525 \r\nQ 2275 2000 2087 2262 \r\nQ 1900 2525 1525 2525 \r\nQ 1225 2525 1012 2262 \r\nQ 800 2000 800 1525 \r\nQ 800 1050 1012 775 \r\nQ 1225 500 1525 500 \r\nQ 1900 500 2087 775 \r\nQ 2275 1050 2275 1525 \r\nz\r\n\" id=\"SimHei-70\" transform=\"scale(0.015625)\"/>\r\n      <path d=\"M 1825 125 \r\nL 1325 125 \r\nL 1325 4400 \r\nL 1825 4400 \r\nL 1825 125 \r\nz\r\n\" id=\"SimHei-6c\" transform=\"scale(0.015625)\"/>\r\n      <path d=\"M 2925 1525 \r\nQ 2925 875 2525 475 \r\nQ 2125 75 1575 75 \r\nQ 1025 75 625 475 \r\nQ 225 875 225 1525 \r\nQ 225 2175 625 2575 \r\nQ 1025 2975 1575 2975 \r\nQ 2125 2975 2525 2575 \r\nQ 2925 2175 2925 1525 \r\nz\r\nM 2375 1525 \r\nQ 2375 2025 2125 2275 \r\nQ 1875 2525 1575 2525 \r\nQ 1275 2525 1025 2275 \r\nQ 775 2025 775 1525 \r\nQ 775 1025 1025 775 \r\nQ 1275 525 1575 525 \r\nQ 1875 525 2125 775 \r\nQ 2375 1025 2375 1525 \r\nz\r\n\" id=\"SimHei-6f\" transform=\"scale(0.015625)\"/>\r\n     </defs>\r\n     <use xlink:href=\"#SimHei-41\"/>\r\n     <use x=\"50\" xlink:href=\"#SimHei-20\"/>\r\n     <use x=\"100\" xlink:href=\"#SimHei-73\"/>\r\n     <use x=\"150\" xlink:href=\"#SimHei-69\"/>\r\n     <use x=\"200\" xlink:href=\"#SimHei-6d\"/>\r\n     <use x=\"250\" xlink:href=\"#SimHei-70\"/>\r\n     <use x=\"300\" xlink:href=\"#SimHei-6c\"/>\r\n     <use x=\"350\" xlink:href=\"#SimHei-65\"/>\r\n     <use x=\"400\" xlink:href=\"#SimHei-20\"/>\r\n     <use x=\"450\" xlink:href=\"#SimHei-70\"/>\r\n     <use x=\"500\" xlink:href=\"#SimHei-6c\"/>\r\n     <use x=\"550\" xlink:href=\"#SimHei-6f\"/>\r\n     <use x=\"600\" xlink:href=\"#SimHei-74\"/>\r\n    </g>\r\n   </g>\r\n   <g id=\"legend_1\">\r\n    <g id=\"patch_7\">\r\n     <path d=\"M 48.325 226.78375 \r\nL 135.325 226.78375 \r\nQ 137.325 226.78375 137.325 224.78375 \r\nL 137.325 197.111875 \r\nQ 137.325 195.111875 135.325 195.111875 \r\nL 48.325 195.111875 \r\nQ 46.325 195.111875 46.325 197.111875 \r\nL 46.325 224.78375 \r\nQ 46.325 226.78375 48.325 226.78375 \r\nz\r\n\" style=\"fill:#ffffff;opacity:0.8;stroke:#cccccc;stroke-linejoin:miter;\"/>\r\n    </g>\r\n    <g id=\"line2d_17\">\r\n     <path d=\"M 50.325 203.697812 \r\nL 70.325 203.697812 \r\n\" style=\"fill:none;stroke:#1f77b4;stroke-linecap:square;stroke-width:1.5;\"/>\r\n    </g>\r\n    <g id=\"line2d_18\">\r\n     <g>\r\n      <use style=\"fill:#ffffff;stroke:#ff0000;\" x=\"60.325\" xlink:href=\"#m38549264e7\" y=\"203.697812\"/>\r\n     </g>\r\n    </g>\r\n    <g id=\"text_18\">\r\n     <!-- y=x^2曲线图 -->\r\n     <g transform=\"translate(78.325 207.197812)scale(0.1 -0.1)\">\r\n      <defs>\r\n       <path d=\"M 2900 2925 \r\nL 1750 -100 \r\nQ 1650 -450 1450 -625 \r\nQ 1250 -800 950 -800 \r\nQ 825 -800 712 -787 \r\nQ 600 -775 500 -725 \r\nL 500 -225 \r\nQ 600 -275 700 -300 \r\nQ 800 -325 875 -325 \r\nQ 1075 -325 1150 -262 \r\nQ 1225 -200 1300 25 \r\nL 200 2925 \r\nL 750 2925 \r\nL 1550 725 \r\nL 1575 725 \r\nL 2350 2925 \r\nL 2900 2925 \r\nz\r\n\" id=\"SimHei-79\" transform=\"scale(0.015625)\"/>\r\n       <path d=\"M 2975 2900 \r\nL 125 2900 \r\nL 125 3300 \r\nL 2975 3300 \r\nL 2975 2900 \r\nz\r\nM 2975 1375 \r\nL 125 1375 \r\nL 125 1775 \r\nL 2975 1775 \r\nL 2975 1375 \r\nz\r\n\" id=\"SimHei-3d\" transform=\"scale(0.015625)\"/>\r\n       <path d=\"M 2875 125 \r\nL 2275 125 \r\nL 1550 1200 \r\nL 825 125 \r\nL 225 125 \r\nL 1250 1550 \r\nL 300 2925 \r\nL 900 2925 \r\nL 1550 1875 \r\nL 2200 2925 \r\nL 2800 2925 \r\nL 1850 1550 \r\nL 2875 125 \r\nz\r\n\" id=\"SimHei-78\" transform=\"scale(0.015625)\"/>\r\n       <path d=\"M 2750 4125 \r\nL 2300 4125 \r\nL 1550 4750 \r\nL 800 4125 \r\nL 350 4125 \r\nL 1250 5150 \r\nL 1850 5150 \r\nL 2750 4125 \r\nz\r\n\" id=\"SimHei-5e\" transform=\"scale(0.015625)\"/>\r\n       <path d=\"M 5825 500 \r\nQ 5825 -200 5850 -550 \r\nL 5275 -550 \r\nL 5275 -50 \r\nL 1150 -50 \r\nL 1150 -550 \r\nL 575 -550 \r\nQ 600 125 600 550 \r\nL 600 2775 \r\nQ 600 3425 575 3900 \r\nL 2150 3900 \r\nL 2150 4450 \r\nQ 2125 4850 2125 5150 \r\nL 2700 5150 \r\nQ 2650 4825 2650 4475 \r\nL 2650 3900 \r\nL 3700 3900 \r\nL 3700 4525 \r\nQ 3700 4850 3675 5175 \r\nL 4250 5175 \r\nQ 4225 4875 4225 4550 \r\nL 4225 3900 \r\nL 5850 3900 \r\nQ 5825 3525 5825 2750 \r\nL 5825 500 \r\nz\r\nM 3700 325 \r\nL 3700 1875 \r\nL 2650 1875 \r\nL 2650 325 \r\nL 3700 325 \r\nz\r\nM 5275 325 \r\nL 5275 1875 \r\nL 4225 1875 \r\nL 4225 325 \r\nL 5275 325 \r\nz\r\nM 2150 325 \r\nL 2150 1875 \r\nL 1150 1875 \r\nL 1150 325 \r\nL 2150 325 \r\nz\r\nM 3700 2250 \r\nL 3700 3525 \r\nL 2650 3525 \r\nL 2650 2250 \r\nL 3700 2250 \r\nz\r\nM 5275 2250 \r\nL 5275 3525 \r\nL 4225 3525 \r\nL 4225 2250 \r\nL 5275 2250 \r\nz\r\nM 2150 2250 \r\nL 2150 3525 \r\nL 1150 3525 \r\nL 1150 2250 \r\nL 2150 2250 \r\nz\r\n\" id=\"SimHei-66f2\" transform=\"scale(0.015625)\"/>\r\n       <path d=\"M 3450 4300 \r\nQ 3450 4675 3375 5125 \r\nQ 3700 5100 4050 5050 \r\nQ 3975 4900 3950 4562 \r\nQ 3925 4225 3950 3600 \r\nL 4800 3750 \r\nQ 5225 3850 5650 3975 \r\nL 5750 3500 \r\nQ 5325 3450 4875 3375 \r\nL 3975 3200 \r\nQ 3975 2800 4025 2500 \r\nL 5000 2675 \r\nQ 5500 2775 5950 2925 \r\nL 6025 2450 \r\nQ 5575 2375 5075 2275 \r\nL 4100 2100 \r\nQ 4150 1600 4350 1175 \r\nQ 4575 1350 4787 1575 \r\nQ 5000 1800 5175 2075 \r\nQ 5550 1775 5750 1675 \r\nQ 5425 1525 5237 1337 \r\nQ 5050 1150 4625 750 \r\nQ 4925 250 5162 112 \r\nQ 5400 -25 5500 100 \r\nQ 5600 225 5675 625 \r\nQ 5900 450 6200 350 \r\nQ 5775 -750 5275 -537 \r\nQ 4775 -325 4225 450 \r\nQ 3875 175 3537 -62 \r\nQ 3200 -300 2700 -550 \r\nQ 2575 -300 2325 -100 \r\nQ 2825 75 3175 275 \r\nQ 3525 475 3975 850 \r\nQ 3750 1350 3650 2025 \r\nQ 2900 1900 2600 1800 \r\nL 2525 2275 \r\nQ 2825 2275 3550 2425 \r\nQ 3500 2825 3500 3100 \r\nQ 2825 2950 2575 2875 \r\nL 2475 3350 \r\nQ 2725 3350 3450 3500 \r\nL 3450 4300 \r\nz\r\nM 1950 4875 \r\nQ 1700 4650 1462 4237 \r\nQ 1225 3825 825 3225 \r\nQ 1425 3250 1650 3250 \r\nQ 1875 3625 2050 4075 \r\nQ 2300 3900 2600 3800 \r\nQ 2350 3550 2087 3125 \r\nQ 1825 2700 1175 1675 \r\nQ 1850 1725 2375 1775 \r\nQ 2300 1525 2300 1350 \r\nQ 2125 1350 1525 1287 \r\nQ 925 1225 550 1125 \r\nQ 525 1375 400 1650 \r\nQ 700 1725 950 2050 \r\nQ 1200 2375 1475 2875 \r\nQ 650 2825 425 2675 \r\nQ 350 2950 200 3225 \r\nQ 525 3450 825 3962 \r\nQ 1125 4475 1375 5150 \r\nQ 1625 4975 1950 4875 \r\nz\r\nM 2575 875 \r\nQ 2550 600 2575 450 \r\nQ 1950 325 1450 200 \r\nQ 950 75 525 -75 \r\nQ 450 200 250 475 \r\nQ 950 550 1325 612 \r\nQ 1700 675 2575 875 \r\nz\r\nM 4850 4025 \r\nQ 4675 4300 4375 4675 \r\nL 4775 4875 \r\nQ 4875 4750 5275 4275 \r\nQ 5025 4175 4850 4025 \r\nz\r\n\" id=\"SimHei-7ebf\" transform=\"scale(0.015625)\"/>\r\n       <path d=\"M 5800 4975 \r\nQ 5775 4350 5775 3600 \r\nL 5775 925 \r\nQ 5775 150 5800 -600 \r\nL 5300 -600 \r\nL 5300 -275 \r\nL 1125 -275 \r\nL 1125 -650 \r\nL 625 -650 \r\nQ 650 125 650 950 \r\nL 650 3600 \r\nQ 650 4325 625 4975 \r\nL 5800 4975 \r\nz\r\nM 5300 150 \r\nL 5300 4575 \r\nL 1125 4575 \r\nL 1125 150 \r\nL 5300 150 \r\nz\r\nM 3225 4250 \r\nQ 3075 4100 2950 3925 \r\nL 4625 3925 \r\nQ 4525 3700 4300 3375 \r\nQ 4075 3050 3600 2600 \r\nQ 4350 2225 5075 2150 \r\nQ 4900 1925 4775 1675 \r\nQ 3850 1950 3225 2350 \r\nQ 2500 1875 1675 1650 \r\nQ 1600 1875 1400 2075 \r\nQ 2200 2200 2875 2600 \r\nQ 2525 2925 2375 3150 \r\nQ 2150 2900 1900 2650 \r\nQ 1725 2850 1525 2950 \r\nQ 1950 3300 2250 3737 \r\nQ 2550 4175 2675 4475 \r\nQ 2925 4350 3225 4250 \r\nz\r\nM 2450 1275 \r\nQ 3550 950 4100 725 \r\nQ 3975 525 3850 300 \r\nQ 2825 725 2275 850 \r\nQ 2375 1050 2450 1275 \r\nz\r\nM 2925 2050 \r\nQ 3775 1700 4075 1600 \r\nQ 3950 1400 3850 1150 \r\nQ 3000 1550 2700 1650 \r\nQ 2825 1825 2925 2050 \r\nz\r\nM 2625 3450 \r\nQ 3000 3025 3275 2850 \r\nQ 3600 3100 3875 3525 \r\nL 2675 3525 \r\nL 2625 3450 \r\nz\r\n\" id=\"SimHei-56fe\" transform=\"scale(0.015625)\"/>\r\n      </defs>\r\n      <use xlink:href=\"#SimHei-79\"/>\r\n      <use x=\"50\" xlink:href=\"#SimHei-3d\"/>\r\n      <use x=\"100\" xlink:href=\"#SimHei-78\"/>\r\n      <use x=\"150\" xlink:href=\"#SimHei-5e\"/>\r\n      <use x=\"200\" xlink:href=\"#SimHei-32\"/>\r\n      <use x=\"250\" xlink:href=\"#SimHei-66f2\"/>\r\n      <use x=\"350\" xlink:href=\"#SimHei-7ebf\"/>\r\n      <use x=\"450\" xlink:href=\"#SimHei-56fe\"/>\r\n     </g>\r\n    </g>\r\n    <g id=\"line2d_19\">\r\n     <path d=\"M 50.325 218.03375 \r\nL 70.325 218.03375 \r\n\" style=\"fill:none;stroke:#ff7f0e;stroke-linecap:square;stroke-width:1.5;\"/>\r\n    </g>\r\n    <g id=\"line2d_20\">\r\n     <g>\r\n      <use style=\"fill:#ff7f0e;stroke:#ff7f0e;stroke-linejoin:bevel;\" x=\"60.325\" xlink:href=\"#m0a6577c6c4\" y=\"218.03375\"/>\r\n     </g>\r\n    </g>\r\n    <g id=\"text_19\">\r\n     <!-- y=x^3曲线图 -->\r\n     <g transform=\"translate(78.325 221.53375)scale(0.1 -0.1)\">\r\n      <use xlink:href=\"#SimHei-79\"/>\r\n      <use x=\"50\" xlink:href=\"#SimHei-3d\"/>\r\n      <use x=\"100\" xlink:href=\"#SimHei-78\"/>\r\n      <use x=\"150\" xlink:href=\"#SimHei-5e\"/>\r\n      <use x=\"200\" xlink:href=\"#SimHei-33\"/>\r\n      <use x=\"250\" xlink:href=\"#SimHei-66f2\"/>\r\n      <use x=\"350\" xlink:href=\"#SimHei-7ebf\"/>\r\n      <use x=\"450\" xlink:href=\"#SimHei-56fe\"/>\r\n     </g>\r\n    </g>\r\n   </g>\r\n  </g>\r\n </g>\r\n <defs>\r\n  <clipPath id=\"p4a18964fd3\">\r\n   <rect height=\"210.24\" width=\"334.8\" x=\"41.325\" y=\"21.54375\"/>\r\n  </clipPath>\r\n </defs>\r\n</svg>\r\n",
      "image/png": "[encoded data removed]"
     },
     "metadata": {
      "needs_background": "light"
     }
    }
   ],
   "metadata": {}
  },
  {
   "cell_type": "code",
   "execution_count": 34,
   "source": [
    "import pandas as pd"
   ],
   "outputs": [],
   "metadata": {}
  },
  {
   "cell_type": "code",
   "execution_count": 38,
   "source": [
    "reg_term = [0.1,0.2]\r\n",
    "loss_trans=[0.3,0.4]\r\n",
    "write_reg = pd.DataFrame(data=np.array(reg_term))\r\n",
    "write_loss = pd.DataFrame(np.array(loss_trans))\r\n",
    "write_reg.to_csv('./reg.csv')\r\n",
    "write_reg.to_csv('./loss_orign.csv')"
   ],
   "outputs": [],
   "metadata": {}
  },
  {
   "cell_type": "code",
   "execution_count": 40,
   "source": [
    "import pdb\r\n",
    "\r\n",
    "def compute_regularization_add(attn, value, coe):\r\n",
    "    value_norm = value.norm(p=2, dim=2)\r\n",
    "    reg = value_norm.unsqueeze(1) * attn\r\n",
    "    reg = reg.max(dim=2)[0].sum()\r\n",
    "    pdb.set_trace()\r\n",
    "    denominator = attn @ value_norm\r\n",
    "    denominator = reg.sum()\r\n",
    "    return (reg/denominator) * (-1) * coe"
   ],
   "outputs": [],
   "metadata": {}
  },
  {
   "cell_type": "code",
   "execution_count": 41,
   "source": [
    "def compute_regularization_add(attn, value, coe):\r\n",
    "    value_norm = value.norm(p=2, dim=2)\r\n",
    "    reg = value_norm.unsqueeze(1) * attn\r\n",
    "    reg = reg.max(dim=2)[0].sum()\r\n",
    "    pdb.set_trace()\r\n",
    "    denominator = attn @ value_norm\r\n",
    "    denominator = reg.sum()\r\n",
    "    return (reg/denominator) * (-1) * coe\r\n",
    "    \r\n",
    "a = torch.tensor([\r\n",
    "    [\r\n",
    "        [0.8,0.1,0.1],\r\n",
    "        [0.4,0.3,0.3]\r\n",
    "    ],\r\n",
    "    [\r\n",
    "        [0.7,0.2,0.1],\r\n",
    "        [0.6,0.3,0.1]\r\n",
    "    ]\r\n",
    "])\r\n",
    "\r\n",
    "b = torch.tensor([\r\n",
    "    [\r\n",
    "        [0.2,0.2,0.2,0.2,0.2],\r\n",
    "        [0.3,0.3,0.3,0.3,0.3],\r\n",
    "        [0.8,0.8,0.8,0.8,0.8],\r\n",
    "    ],\r\n",
    "    [\r\n",
    "        [0.2,0.2,0.2,0.2,0.2],\r\n",
    "        [0.3,0.3,0.3,0.3,0.3],\r\n",
    "        [0.8,0.8,0.8,0.8,0.8],\r\n",
    "    ]\r\n",
    "])\r\n",
    "compute_regularization_add(a,b,1)"
   ],
   "outputs": [],
   "metadata": {}
  },
  {
   "cell_type": "code",
   "execution_count": 46,
   "source": [
    "def compute_regularization_add(attn, value, coe):\r\n",
    "    value_norm = value.norm(p=2, dim=2)\r\n",
    "    reg = value_norm.unsqueeze(1) * attn\r\n",
    "    reg = reg.max(dim=2)[0].sum()\r\n",
    "    #print(attn.shape, value_norm.shape)\r\n",
    "    denominator = attn @ value_norm.T\r\n",
    "    #print(denominator)\r\n",
    "    denominator = denominator.sum()\r\n",
    "    #print(denominator)\r\n",
    "    return (reg/denominator) * (-1) * coe\r\n",
    "    \r\n",
    "a = torch.tensor([\r\n",
    "    [\r\n",
    "        [0.8,0.1,0.1],\r\n",
    "        [0.4,0.3,0.3]\r\n",
    "    ],\r\n",
    "    [\r\n",
    "        [0.7,0.2,0.1],\r\n",
    "        [0.6,0.3,0.1]\r\n",
    "    ]\r\n",
    "])\r\n",
    "\r\n",
    "b = torch.tensor([\r\n",
    "    [\r\n",
    "        [0.2,0.2,0.2,0.2,0.2],\r\n",
    "        [0.3,0.3,0.3,0.3,0.3],\r\n",
    "        [0.8,0.8,0.8,0.8,0.8],\r\n",
    "    ],\r\n",
    "    [\r\n",
    "        [0.2,0.2,0.2,0.2,0.2],\r\n",
    "        [0.3,0.3,0.3,0.3,0.3],\r\n",
    "        [0.8,0.8,0.8,0.8,0.8],\r\n",
    "    ]\r\n",
    "])\r\n",
    "compute_regularization_add(a,b,1)"
   ],
   "outputs": [
    {
     "output_type": "stream",
     "name": "stdout",
     "text": [
      "torch.Size([2, 2, 3]) torch.Size([2, 3])\n",
      "tensor([[[0.6037, 0.6037],\n",
      "         [0.9168, 0.9168]],\n",
      "\n",
      "        [[0.6261, 0.6261],\n",
      "         [0.6485, 0.6485]]])\n",
      "tensor(5.5902)\n"
     ]
    },
    {
     "output_type": "execute_result",
     "data": {
      "text/plain": [
       "tensor(-0.2640)"
      ]
     },
     "metadata": {},
     "execution_count": 46
    }
   ],
   "metadata": {}
  },
  {
   "cell_type": "code",
   "execution_count": null,
   "source": [],
   "outputs": [],
   "metadata": {}
  }
 ],
 "metadata": {
  "kernelspec": {
   "name": "python3",
   "display_name": "Python 3.8.8 64-bit ('pytorch_gpu': conda)"
  },
  "language_info": {
   "codemirror_mode": {
    "name": "ipython",
    "version": 3
   },
   "file_extension": ".py",
   "mimetype": "text/x-python",
   "name": "python",
   "nbconvert_exporter": "python",
   "pygments_lexer": "ipython3",
   "version": "3.8.8"
  },
  "interpreter": {
   "hash": "0c0385183c85ad2ee7283d58b4ec2195ee601fc9ef10920b48f099e6c3550f08"
  }
 },
 "nbformat": 4,
 "nbformat_minor": 5
}